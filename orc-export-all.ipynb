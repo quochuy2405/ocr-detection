{
 "cells": [
  {
   "cell_type": "code",
   "execution_count": 63,
   "metadata": {},
   "outputs": [],
   "source": [
    "# pip install \"paddleocr>=2.0.1\""
   ]
  },
  {
   "cell_type": "code",
   "execution_count": 84,
   "metadata": {},
   "outputs": [],
   "source": [
    "from paddleocr import PaddleOCR\n",
    "# draw result\n",
    "from PIL import Image, ImageDraw, ImageFont\n",
    "import numpy as np\n",
    "import math\n",
    "import cv2\n",
    "import string\n",
    "import math\n",
    "import pandas as pd"
   ]
  },
  {
   "cell_type": "code",
   "execution_count": 65,
   "metadata": {},
   "outputs": [
    {
     "name": "stdout",
     "output_type": "stream",
     "text": [
      "[2024/01/18 18:09:59] ppocr DEBUG: Namespace(help='==SUPPRESS==', use_gpu=False, use_xpu=False, use_npu=False, ir_optim=True, use_tensorrt=False, min_subgraph_size=15, precision='fp32', gpu_mem=500, gpu_id=0, image_dir=None, page_num=0, det_algorithm='DB', det_model_dir='C:\\\\Users\\\\19521/.paddleocr/whl\\\\det\\\\en\\\\en_PP-OCRv3_det_infer', det_limit_side_len=960, det_limit_type='max', det_box_type='quad', det_db_thresh=0.3, det_db_box_thresh=0.6, det_db_unclip_ratio=1.5, max_batch_size=10, use_dilation=False, det_db_score_mode='fast', det_east_score_thresh=0.8, det_east_cover_thresh=0.1, det_east_nms_thresh=0.2, det_sast_score_thresh=0.5, det_sast_nms_thresh=0.2, det_pse_thresh=0, det_pse_box_thresh=0.85, det_pse_min_area=16, det_pse_scale=1, scales=[8, 16, 32], alpha=1.0, beta=1.0, fourier_degree=5, rec_algorithm='SVTR_LCNet', rec_model_dir='C:\\\\Users\\\\19521/.paddleocr/whl\\\\rec\\\\en\\\\en_PP-OCRv4_rec_infer', rec_image_inverse=True, rec_image_shape='3, 48, 320', rec_batch_num=6, max_text_length=25, rec_char_dict_path='c:\\\\Users\\\\19521\\\\AppData\\\\Local\\\\Programs\\\\Python\\\\Python310\\\\lib\\\\site-packages\\\\paddleocr\\\\ppocr\\\\utils\\\\en_dict.txt', use_space_char=True, vis_font_path='./doc/fonts/simfang.ttf', drop_score=0.5, e2e_algorithm='PGNet', e2e_model_dir=None, e2e_limit_side_len=768, e2e_limit_type='max', e2e_pgnet_score_thresh=0.5, e2e_char_dict_path='./ppocr/utils/ic15_dict.txt', e2e_pgnet_valid_set='totaltext', e2e_pgnet_mode='fast', use_angle_cls=True, cls_model_dir='C:\\\\Users\\\\19521/.paddleocr/whl\\\\cls\\\\ch_ppocr_mobile_v2.0_cls_infer', cls_image_shape='3, 48, 192', label_list=['0', '180'], cls_batch_num=6, cls_thresh=0.9, enable_mkldnn=False, cpu_threads=10, use_pdserving=False, warmup=False, sr_model_dir=None, sr_image_shape='3, 32, 128', sr_batch_num=1, draw_img_save_dir='./inference_results', save_crop_res=False, crop_res_save_dir='./output', use_mp=False, total_process_num=1, process_id=0, benchmark=False, save_log_path='./log_output/', show_log=True, use_onnx=False, output='./output', table_max_len=488, table_algorithm='TableAttn', table_model_dir=None, merge_no_span_structure=True, table_char_dict_path=None, layout_model_dir=None, layout_dict_path=None, layout_score_threshold=0.5, layout_nms_threshold=0.5, kie_algorithm='LayoutXLM', ser_model_dir=None, re_model_dir=None, use_visual_backbone=True, ser_dict_path='../train_data/XFUND/class_list_xfun.txt', ocr_order_method=None, mode='structure', image_orientation=False, layout=True, table=True, ocr=True, recovery=False, use_pdf2docx_api=False, invert=False, binarize=False, alphacolor=(255, 255, 255), lang='en', det=True, rec=True, type='ocr', ocr_version='PP-OCRv4', structure_version='PP-StructureV2')\n",
      "[2024/01/18 18:10:00] ppocr DEBUG: dt_boxes num : 42, elapsed : 0.6461124420166016\n",
      "[2024/01/18 18:10:01] ppocr DEBUG: cls num  : 42, elapsed : 0.4681084156036377\n",
      "[2024/01/18 18:10:09] ppocr DEBUG: rec_res num  : 42, elapsed : 8.002392530441284\n",
      "[[[[280.0, 53.0], [540.0, 62.0], [539.0, 86.0], [279.0, 76.0]], ('Store-66 Nguyen Van Troi', 0.9436720013618469)], [[[127.0, 73.0], [630.0, 88.0], [629.0, 114.0], [126.0, 99.0]], ('66 Nguyen Van Troi St,Phu Nhuan Dist, HCMC,V', 0.9193261861801147)], [[[278.0, 104.0], [474.0, 109.0], [473.0, 131.0], [277.0, 127.0]], ('Tel:08)3842 2171', 0.8831113576889038)], [[[102.0, 124.0], [387.0, 131.0], [386.0, 154.0], [101.0, 147.0]], ('Date:5/2/2017Time:09:41', 0.9458580613136292)], [[[98.0, 148.0], [297.0, 155.0], [296.0, 177.0], [97.0, 170.0]], ('Termina10421701', 0.9718534350395203)], [[[94.0, 170.0], [332.0, 178.0], [331.0, 204.0], [93.0, 195.0]], ('Partner:Quynh Tram', 0.960722804069519)], [[[93.0, 195.0], [241.0, 203.0], [240.0, 225.0], [92.0, 217.0]], ('Customer Name', 0.9696966409683228)], [[[90.0, 221.0], [326.0, 228.0], [326.0, 251.0], [90.0, 244.0]], ('Member Name: Tran Nga', 0.9296538233757019)], [[[87.0, 244.0], [180.0, 249.0], [179.0, 274.0], [86.0, 269.0]], ('Card No:', 0.9055823087692261)], [[[232.0, 252.0], [415.0, 251.0], [415.0, 273.0], [232.0, 275.0]], ('xxxxxxxxxxxx3630', 0.8334888219833374)], [[[83.0, 273.0], [145.0, 273.0], [145.0, 298.0], [83.0, 298.0]], ('Level', 0.9755374193191528)], [[[230.0, 274.0], [292.0, 277.0], [291.0, 302.0], [229.0, 299.0]], ('Green', 0.9979673624038696)], [[[426.0, 279.0], [589.0, 279.0], [589.0, 301.0], [426.0, 301.0]], ('Star Balance:9', 0.9457135200500488)], [[[79.0, 323.0], [184.0, 326.0], [184.0, 349.0], [78.0, 347.0]], ('ITEM NAME', 0.9603943228721619)], [[[444.0, 327.0], [485.0, 327.0], [485.0, 352.0], [444.0, 352.0]], ('QTY', 0.9973579049110413)], [[[564.0, 329.0], [639.0, 329.0], [639.0, 352.0], [564.0, 352.0]], ('AMOUNT', 0.9964831471443176)], [[[73.0, 378.0], [389.0, 378.0], [389.0, 400.0], [73.0, 400.0]], ('Popzel Coffee Frappuccino G', 0.9406365156173706)], [[[432.0, 377.0], [508.0, 379.0], [507.0, 404.0], [432.0, 401.0]], ('1.0000', 0.9971609115600586)], [[[553.0, 378.0], [643.0, 375.0], [643.0, 402.0], [554.0, 405.0]], ('105,000', 0.9776356816291809)], [[[64.0, 428.0], [264.0, 430.0], [263.0, 457.0], [64.0, 454.0]], ('Strawberry Yogurt', 0.969977080821991)], [[[432.0, 431.0], [508.0, 431.0], [508.0, 456.0], [432.0, 456.0]], ('1.0000', 0.9975244402885437)], [[[564.0, 429.0], [646.0, 427.0], [647.0, 454.0], [565.0, 457.0]], ('50,000', 0.9459943175315857)], [[[53.0, 511.0], [149.0, 511.0], [149.0, 538.0], [53.0, 538.0]], ('Subtotal', 0.9961051940917969)], [[[323.0, 504.0], [480.0, 513.0], [478.0, 556.0], [321.0, 547.0]], ('Foody.un', 0.9569620490074158)], [[[558.0, 512.0], [650.0, 512.0], [650.0, 540.0], [558.0, 540.0]], ('140,910', 0.960371196269989)], [[[55.0, 542.0], [165.0, 542.0], [165.0, 569.0], [55.0, 569.0]], ('Total tax', 0.9659850597381592)], [[[568.0, 544.0], [650.0, 544.0], [650.0, 571.0], [568.0, 571.0]], ('14,090', 0.9439964890480042)], [[[56.0, 570.0], [118.0, 570.0], [118.0, 599.0], [56.0, 599.0]], ('Total', 0.9963303804397583)], [[[556.0, 572.0], [649.0, 575.0], [648.0, 603.0], [555.0, 600.0]], ('155,000', 0.967121958732605)], [[[56.0, 630.0], [110.0, 630.0], [110.0, 659.0], [56.0, 659.0]], ('Cash', 0.9977775812149048)], [[[553.0, 633.0], [647.0, 637.0], [646.0, 665.0], [552.0, 661.0]], ('500,000', 0.9593092799186707)], [[[62.0, 690.0], [273.0, 690.0], [273.0, 714.0], [62.0, 714.0]], ('Change back Cash)', 0.9388728141784668)], [[[553.0, 692.0], [645.0, 697.0], [643.0, 725.0], [552.0, 720.0]], ('345,000', 0.9688758254051208)], [[[287.0, 716.0], [407.0, 719.0], [406.0, 746.0], [286.0, 742.0]], ('Thank you', 0.9505190253257751)], [[[66.0, 739.0], [566.0, 753.0], [565.0, 779.0], [66.0, 766.0]], ('Please ask our staff for VAT Invoice today', 0.94243985414505)], [[[128.0, 769.0], [500.0, 780.0], [499.0, 804.0], [127.0, 792.0]], ('Quy khach can hoa don tai chinh', 0.930547297000885)], [[[106.0, 796.0], [564.0, 811.0], [563.0, 836.0], [105.0, 821.0]], ('vui long cung cap thong tin trong ngay.', 0.9375428557395935)], [[[101.0, 851.0], [604.0, 864.0], [603.0, 894.0], [100.0, 881.0]], ('Rewards Stars of this bil1 wil1 be updated', 0.9200176000595093)], [[[157.0, 887.0], [339.0, 890.0], [338.0, 917.0], [157.0, 913.0]], ('within 48 hours', 0.9629606604576111)], [[[246.0, 1016.0], [517.0, 1022.0], [517.0, 1052.0], [245.0, 1046.0]], ('Free wifi access code:', 0.9592325687408447)], [[[709.0, 1015.0], [781.0, 1015.0], [781.0, 1034.0], [709.0, 1034.0]], ('Nga Tran', 0.9647668600082397)], [[[712.0, 1031.0], [776.0, 1036.0], [773.0, 1061.0], [710.0, 1055.0]], ('Foody.sn', 0.8946459293365479)]]\n"
     ]
    }
   ],
   "source": [
    "# Paddleocr supports Chinese, English, French, German, Korean, and Japanese.\n",
    "# You can set the parameter `lang` as `ch`, `en`, `fr`, `german`, `korean`, `japan`\n",
    "# to switch the language model in order.\n",
    "ocr = PaddleOCR(use_angle_cls=True, lang='en')  # need to run only once to download and load the model into memory\n",
    "img_path = './input-image.jpg'\n",
    "result = ocr.ocr(img_path, cls=True)\n",
    "for line in result:\n",
    "    print(line)\n"
   ]
  },
  {
   "cell_type": "code",
   "execution_count": null,
   "metadata": {},
   "outputs": [],
   "source": []
  },
  {
   "cell_type": "code",
   "execution_count": 101,
   "metadata": {},
   "outputs": [],
   "source": [
    "def resize_img(img, input_size=600):\n",
    "    \"\"\"\n",
    "    resize img and limit the longest side of the image to input_size\n",
    "    \"\"\"\n",
    "    img = np.array(img)\n",
    "    im_shape = img.shape\n",
    "    im_size_max = np.max(im_shape[0:2])\n",
    "    im_scale = float(input_size) / float(im_size_max)\n",
    "    img = cv2.resize(img, None, None, fx=im_scale, fy=im_scale)\n",
    "    return img\n",
    "def str_count(s):\n",
    "    \"\"\"\n",
    "    Count the number of Chinese characters,\n",
    "    a single English character, and a single digit\n",
    "    equal to half the length of Chinese characters.\n",
    "    \n",
    "    Args:\n",
    "        s (str): The input string.\n",
    "        \n",
    "    Returns:\n",
    "        int: The number of Chinese characters.\n",
    "    \"\"\"\n",
    "    count_zh = count_pu = 0\n",
    "    s_len = len(s)\n",
    "    en_dg_count = 0\n",
    "    \n",
    "    for c in s:\n",
    "        if str(c) in string.ascii_letters or str(c).isdigit() or str(c).isspace():\n",
    "            en_dg_count += 1\n",
    "        elif str(c).isalpha():\n",
    "            count_zh += 1\n",
    "        else:\n",
    "            count_pu += 1\n",
    "    \n",
    "    return s_len - math.ceil(en_dg_count / 2)\n",
    "\n",
    "\n",
    "def draw_ocr(image, boxes, txts, scores):\n",
    "    if scores is None:\n",
    "        scores = [1] * len(boxes)\n",
    "\n",
    "    img = np.array(image)\n",
    "    arrayVal=[]\n",
    "    for idx in range(len(boxes)):\n",
    "        if scores[idx] < 0.5 or math.isnan(scores[idx]):\n",
    "            continue\n",
    "        coordinates = np.array(boxes[idx][0], dtype=np.int32).reshape(-1, 2)\n",
    "        img = cv2.polylines(img, [coordinates], isClosed=True, color=(255, 0, 0), thickness=2)\n",
    "        # img = resize_img(img, input_size=600)  # Placeholder for resize_img\n",
    "    \n",
    "    txt_img = []\n",
    "    for index, txt in enumerate(txts):\n",
    "        if txt is not None:\n",
    "            arrayVal.append([index,txt,scores[index]])\n",
    "    \n",
    "    # Check if txt_img is not empty before concatenating\n",
    "    if txt_img:\n",
    "        txt_img_concatenated = np.concatenate(txt_img, axis=1)\n",
    "        img = np.concatenate([img, txt_img_concatenated], axis=1)\n",
    "\n",
    "    return img,arrayVal\n",
    "\n",
    "\n",
    "# Your existing code\n",
    "image = Image.open(img_path).convert('RGB')\n",
    "\n",
    "boxes =[]\n",
    "txts=[]\n",
    "scores=[]\n",
    "idx=0\n",
    "\n",
    "for value in result[0]:\n",
    "  scores.append(value[1][1])\n",
    "  txts.append(value[1][0])\n",
    "  boxes.append(value)\n",
    "  idx+=1\n",
    "# Set your desired drop_score value\n",
    "\n",
    "drop_score = 0.5\n",
    "im_show, arrayValue = draw_ocr(image, boxes, txts, scores)\n",
    "im_show = Image.fromarray(im_show)\n",
    "im_show.save('result.jpg')\n",
    "\n",
    "# Create DataFrame from arrayValue\n",
    "df = pd.DataFrame(arrayValue, columns=['Index', 'Value', 'Score'])\n",
    "df.set_index('Index', inplace=True)  # Set 'Index' column as the index\n",
    "df.to_csv('result.csv')\n"
   ]
  }
 ],
 "metadata": {
  "kernelspec": {
   "display_name": "Python 3",
   "language": "python",
   "name": "python3"
  },
  "language_info": {
   "codemirror_mode": {
    "name": "ipython",
    "version": 3
   },
   "file_extension": ".py",
   "mimetype": "text/x-python",
   "name": "python",
   "nbconvert_exporter": "python",
   "pygments_lexer": "ipython3",
   "version": "3.10.10"
  }
 },
 "nbformat": 4,
 "nbformat_minor": 2
}
